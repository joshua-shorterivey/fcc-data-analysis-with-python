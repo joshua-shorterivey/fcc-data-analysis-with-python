{
 "cells": [
  {
   "cell_type": "markdown",
   "metadata": {},
   "source": [
    "# FCC Data Analysis with Python Project 1 - "
   ]
  },
  {
   "cell_type": "code",
   "execution_count": 2,
   "metadata": {},
   "outputs": [],
   "source": [
    "import numpy as np"
   ]
  },
  {
   "cell_type": "code",
   "execution_count": 1,
   "metadata": {},
   "outputs": [],
   "source": [
    "input = [0,1,2,3,4,5,6,7,8]"
   ]
  },
  {
   "cell_type": "code",
   "execution_count": 48,
   "metadata": {},
   "outputs": [],
   "source": [
    "def calculate(input):\n",
    "    \"\"\" \n",
    "    Purpose:\n",
    "        Create a function named calculate() in mean_var_std.py that uses \n",
    "        Numpy to output the mean, variance, standard deviation, max, min, and sum \n",
    "        of the rows, columns, and elements in a 3 x 3 matrix.\n",
    "    ---\n",
    "    Parameters:\n",
    "        input: a 9 member list of numbers\n",
    "    ---\n",
    "    Returns:\n",
    "        calculations: mean, variance, standard deviation, max, min, and sum \n",
    "        of the rows, columns, and elements\n",
    "    \"\"\"\n",
    "    #create dictionary with empty lists to hold values prior to calculations\n",
    "    calculations = {'input': input, 'mean': [[],[]], 'variance': [[],[]], 'standard deviation':[[],[]],\\\n",
    "                    'max': [[],[]], 'min':[[],[]] ,'sum':[[],[]] }\n",
    "    \n",
    "    #raise value error if list is of incorrect length\n",
    "    if len(input) != 9:\n",
    "        raise ValueError('List must contain nine numbers')\n",
    "\n",
    "    #reshapes input array for cacluations\n",
    "    input = np.array(input)\n",
    "    grid = input.reshape((3,3))\n",
    "    \n",
    "\n",
    "    #handles assignment to dictionary members via for loops\n",
    "    for col in range(0,3):\n",
    "        calculations['mean'][0].append(grid[:, col].mean())\n",
    "        calculations['variance'][0].append(grid[:, col].var())\n",
    "        calculations['standard deviation'][0].append(grid[:, col].std()) \n",
    "        calculations['max'][0].append(grid[:, col].max()) \n",
    "        calculations['min'][0].append(grid[:, col].min())\n",
    "        calculations['sum'][0].append(grid[:, col].sum())\n",
    "\n",
    "    for row in range(0,3):\n",
    "        calculations['mean'][1].append(grid[row, :].mean())\n",
    "        calculations['variance'][1].append(grid[row, :].var())\n",
    "        calculations['standard deviation'][1].append(grid[row, :].std()) \n",
    "        calculations['max'][1].append(grid[row, :].max()) \n",
    "        calculations['min'][1].append(grid[row, :].min())\n",
    "        calculations['sum'][1].append(grid[row, :].sum())\n",
    "    \n",
    "    calculations['mean'].append(input.mean())\n",
    "    calculations['variance'].append(input.var())\n",
    "    calculations['standard deviation'].append(input.std())\n",
    "    calculations['max'].append(input.max()) \n",
    "    calculations['min'].append(input.min())\n",
    "    calculations['sum'].append(input.sum())\n",
    "    \n",
    "\n",
    "    return  calculations"
   ]
  },
  {
   "cell_type": "code",
   "execution_count": null,
   "metadata": {},
   "outputs": [],
   "source": []
  }
 ],
 "metadata": {
  "kernelspec": {
   "display_name": "Python 3.9.12 ('base')",
   "language": "python",
   "name": "python3"
  },
  "language_info": {
   "codemirror_mode": {
    "name": "ipython",
    "version": 3
   },
   "file_extension": ".py",
   "mimetype": "text/x-python",
   "name": "python",
   "nbconvert_exporter": "python",
   "pygments_lexer": "ipython3",
   "version": "3.9.12"
  },
  "orig_nbformat": 4,
  "vscode": {
   "interpreter": {
    "hash": "38cca0c38332a56087b24af0bc80247f4fced29cb4f7f437d91dc159adec9c4e"
   }
  }
 },
 "nbformat": 4,
 "nbformat_minor": 2
}
